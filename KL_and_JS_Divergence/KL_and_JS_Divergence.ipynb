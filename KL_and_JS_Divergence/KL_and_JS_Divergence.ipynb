{
  "nbformat": 4,
  "nbformat_minor": 0,
  "metadata": {
    "colab": {
      "provenance": [],
      "authorship_tag": "ABX9TyMA/9v1LdatAPNAJV8V69yO",
      "include_colab_link": true
    },
    "kernelspec": {
      "name": "python3",
      "display_name": "Python 3"
    },
    "language_info": {
      "name": "python"
    }
  },
  "cells": [
    {
      "cell_type": "markdown",
      "metadata": {
        "id": "view-in-github",
        "colab_type": "text"
      },
      "source": [
        "<a href=\"https://colab.research.google.com/github/YenLinWu/Model_Drift/blob/dev/KL_and_JS_Divergence/KL_and_JS_Divergence.ipynb\" target=\"_parent\"><img src=\"https://colab.research.google.com/assets/colab-badge.svg\" alt=\"Open In Colab\"/></a>"
      ]
    },
    {
      "cell_type": "markdown",
      "source": [
        "<div align='center' ><font size='70'>KL 散度與 JS 散度</font></div>\n",
        "\n",
        "<center>      \n",
        "About Author      \n",
        "  \n",
        "[![Linkedin](https://img.shields.io/badge/LinkedIn-0077B5?style=for-the-badge&logo=linkedin&logoColor=white)](https://www.linkedin.com/in/yenlinwu/)    [![GitHub](https://img.shields.io/badge/github-%23121011.svg?style=for-the-badge&logo=github&logoColor=white)](https://github.com/YenLinWu)\n",
        "</center>"
      ],
      "metadata": {
        "id": "KIGV8G53yAri"
      }
    },
    {
      "cell_type": "markdown",
      "source": [
        "# KL 與 JS 散度 - 介紹"
      ],
      "metadata": {
        "id": "FjXOpbZvFffM"
      }
    },
    {
      "cell_type": "markdown",
      "source": [
        "<font color=\"#dddd00\">KL 散度</font>(<font color=\"#dddd00\">K</font>ullback-<font color=\"#dddd00\">L</font>eibler Divergence, <font color=\"#dddd00\">KL Divergence</font>)係用來度量兩個機率分佈 $P(x)$ 與 $Q(x)$ 相似度的一種統計距離(Statistical Distance)，其定義係以[信息熵(Information Entropy)](https://en.wikipedia.org/wiki/Entropy_(information_theory))為基礎，熵係可用來表達一個系統的混亂程度，熵的定義如下:  \n",
        "\n",
        "$$ H \\equiv -\\sum_{i} P(x_i) \\log\\big(P(x_i)\\big), $$\n",
        "其中， $P(x_i)$ 表示事件 $x_i$ 的發生機率。 KL 散度的定義為一個[交叉熵(Cross Entropy)](https://en.wikipedia.org/wiki/Cross_entropy)減去一個信息熵，對於離散型隨機變數，兩機率分佈 $P$ 與 $Q$ 的 KL 散度定義如下 :  \n",
        "$$ KL(P \\parallel Q) = \\sum_{i} P(i) \\log\\big(\\frac{P(i)}{Q(i)}\\big). $$\n",
        "\n",
        "另外，對於連續型隨機變數，兩機率分佈 $P$ 與 $Q$ 的 KL 散度定義如下 : \n",
        "$$ KL(P \\parallel Q) = \\int P(x) \\log\\big(\\frac{P(x)}{Q(x)}\\big) dx. $$\n",
        "從上列 KL 散度的定義中可知，當 KL 散度越小，則表示兩機率分佈 $P$ 與 $Q$ 越近似(相似)，也就是說，當以 $P$ 為基礎時， $Q$ 的機率分佈越近似於 $P$。\n",
        "<br/> \n",
        "<br/>\n",
        "從 KL 散度定義可明顯得知， KL 散度不具對稱性(Symmetric)，因此， KL 散度並非是一種可用來度量距離的[距離尺度]((https://en.wikipedia.org/wiki/Metric_space))。為了避免 KL 散度不具對稱性的情況，基於 KL 散度的基礎，我們定義出 <font color=\"#dddd00\">JS 散度</font>(<font color=\"#dddd00\">J</font>ensen-<font color=\"#dddd00\">S</font>hannon Divergence, <font color=\"#dddd00\">JS Divergence</font>):  \n",
        "  \n",
        "$$ JS(P \\parallel Q) = \\frac{KL(P \\parallel M)+KL(Q \\parallel M)}{2}, $$\n",
        "其中，$M=(P+Q)/2$。同樣地，當 JS 散度越小，則也表示兩機率分佈 $P$ 與 $Q$ 越近似(相似)。\n",
        "\n",
        "\n",
        "\n",
        "\n"
      ],
      "metadata": {
        "id": "o_Bhu4abxnz9"
      }
    },
    {
      "cell_type": "markdown",
      "source": [
        "# KL 與 JS 散度 - 性質"
      ],
      "metadata": {
        "id": "dFX6Uu9mFkBB"
      }
    },
    {
      "cell_type": "markdown",
      "source": [
        "1. $KL(P \\parallel Q) \\ge 0$；   \n",
        "註: 此性質可藉由 [Jensen’s Inequality](https://en.wikipedia.org/wiki/Jensen%27s_inequality) 證明推得。  \n",
        "  \n",
        "2. $P=Q$  $\\Leftrightarrow$  $KL(P \\parallel Q)=0$；\n",
        "\n",
        "3. $KL(Q \\parallel P) \\not= KL(P \\parallel Q)$；\n",
        "  \n",
        "4. KL 散度不滿足三角不等式(Triangle Inequality)；\n",
        "\n",
        "5. $0 \\le JS(P \\parallel Q) \\le 1；$\n",
        "\n",
        "6. $JS(Q \\parallel P) = JS(P \\parallel Q)$；  \n",
        "\n",
        "7. KL 散度不屬於距離尺度， JS 散度為一距離尺度。"
      ],
      "metadata": {
        "id": "8HHfcjFOFkQu"
      }
    },
    {
      "cell_type": "markdown",
      "source": [
        "# Python 程式碼\n",
        "\n",
        "下列我們將藉由鎳現金結算(Nickel Cash Settlement)的市場資料，示範如何運用 KL 散度與 JS 散度來衡量資料偏移。  \n",
        "\n",
        "在去年俄烏戰爭爆發( 2022年 2月 24日 )的幾個交易天後，鎳現金結算發生了前所未見的暴漲，市場將此事件稱為「妖鎳事件」，相關報導請參閱 [一天暴漲超過100%！妖「鎳」衝破10萬美元，空頭大戶慘遭軋爆，交易所暫停交易](https://www.storm.mg/lifestyle/4229380)。因此，我們將使用 2021 年起每個交易日的鎳現金結算，觀察市場在「妖鎳事件」發生的前後，資料是否產生明顯的偏移現象?\n",
        "\n",
        "<p align=\"left\">\n",
        "<img width=\"550\" src=\"https://raw.githubusercontent.com/YenLinWu/Model_Drift/dev/KL_and_JS_Divergence/Imgs/Nickel_Price_Trend.png\">\n",
        "</p>\n",
        "\n",
        "* 資料來源: [Westmetall - Market data](https://www.westmetall.com/en/markdaten.php?action=table&field=LME_Ni_cash)\n",
        "\n",
        "我們將使用滑動視窗來偵測資料是否偏移，滑動視窗的偵測方式為，固定滑動視窗 P、移動滑動視窗 Q，如下圖所示，藉此觀察 KL 散度與 JS 散度是否隨著時間的推移，而發生明顯不同的趨勢?\n",
        "\n",
        "<p align=\"left\">\n",
        "<img width=\"550\" src=\"https://raw.githubusercontent.com/YenLinWu/Model_Drift/dev/KL_and_JS_Divergence/Imgs/Data_Drift_Detection_Instruction.png\">\n",
        "</p>\n",
        "\n",
        "對於 2021 年起的鎳現金結算，藉由上述滑動視窗的偵測方式，下圖為偵測的結果。我們可清楚發現， KL 散度與 JS 散度在發生妖鎳事件的附近時間，其數值有明顯的增加，另外，在妖鎳事件之後，其數值的波動較事件發生前明顯的大。\n",
        "\n",
        "<p align=\"left\">\n",
        "<img width=\"550\" src=\"https://raw.githubusercontent.com/YenLinWu/Model_Drift/dev/KL_and_JS_Divergence/Imgs/Data_Drift_Detection_in_KL_and_JS_Divergence.png\">\n",
        "</p>"
      ],
      "metadata": {
        "id": "skiMudCIPBG4"
      }
    },
    {
      "cell_type": "markdown",
      "source": [
        "## Step 1: 匯入套件"
      ],
      "metadata": {
        "id": "-gEblSnMPp9Q"
      }
    },
    {
      "cell_type": "code",
      "execution_count": 1,
      "metadata": {
        "colab": {
          "base_uri": "https://localhost:8080/"
        },
        "id": "vkVE1EhNwQNV",
        "outputId": "84c093c3-82d7-41ba-8210-cf9a74340573"
      },
      "outputs": [
        {
          "output_type": "stream",
          "name": "stdout",
          "text": [
            "Python Version: 3.8.10 \n",
            "Numpy Version: 1.21.6\n",
            "Pandas Version: 1.3.5\n",
            "SciPy Version: 1.7.3\n",
            "Matplotlib Version: 3.2.2\n"
          ]
        }
      ],
      "source": [
        "import sys\n",
        "import os\n",
        "import math\n",
        "import datetime\n",
        "\n",
        "import numpy as np\n",
        "import pandas as pd\n",
        "import scipy\n",
        "from scipy.stats import entropy\n",
        "import matplotlib\n",
        "import matplotlib.pyplot as plt\n",
        "import matplotlib.gridspec as gridspec\n",
        "plt.style.use('ggplot')\n",
        "from PIL import Image\n",
        "\n",
        "# 套件版本\n",
        "print('Python Version:', sys.version[0:7]) \n",
        "print('Numpy Version:', np.__version__)\n",
        "print('Pandas Version:', pd.__version__)\n",
        "print('SciPy Version:', scipy.__version__)\n",
        "print('Matplotlib Version:', matplotlib.__version__)"
      ]
    },
    {
      "cell_type": "markdown",
      "source": [
        "## Step 2: 匯入資料  \n",
        "\n"
      ],
      "metadata": {
        "id": "NHp3t-P1PvMn"
      }
    },
    {
      "cell_type": "code",
      "source": [
        "# 資料讀取\n",
        "file_name = r'Nickel_Market_Info.xlsx'\n",
        "data_path = os.path.join(os.getcwd(), file_name)\n",
        "data = pd.read_excel(data_path, sheet_name='LME_Market_Data')\n",
        "\n",
        "# 字串型態的日期轉換成日期型態\n",
        "data['date'] = pd.to_datetime(data['date'], format='%d. %B %Y')  \n",
        "\n",
        "data"
      ],
      "metadata": {
        "colab": {
          "base_uri": "https://localhost:8080/",
          "height": 424
        },
        "id": "40u35wu97M54",
        "outputId": "f96c7d08-141c-4ffd-ea49-9c8499a52de5"
      },
      "execution_count": 2,
      "outputs": [
        {
          "output_type": "execute_result",
          "data": {
            "text/plain": [
              "           date  LME Nickel Cash-Settlement LME Nickel 3-month  \\\n",
              "0    2023-02-16                       25860              26000   \n",
              "1    2023-02-15                       25805              26060   \n",
              "2    2023-02-14                       26900              26900   \n",
              "3    2023-02-13                       26755              27000   \n",
              "4    2023-02-10                       27710              28060   \n",
              "...         ...                         ...                ...   \n",
              "1544 2017-01-09                       10245              10285   \n",
              "1545 2017-01-06                       10185              10240   \n",
              "1546 2017-01-05                       10230              10280   \n",
              "1547 2017-01-04                        9975              10025   \n",
              "1548 2017-01-03                       10205              10270   \n",
              "\n",
              "     LME Nickel stock  \n",
              "0               45432  \n",
              "1               46566  \n",
              "2               46710  \n",
              "3               47958  \n",
              "4               48072  \n",
              "...               ...  \n",
              "1544           372012  \n",
              "1545           370920  \n",
              "1546           370920  \n",
              "1547           371724  \n",
              "1548           372066  \n",
              "\n",
              "[1549 rows x 4 columns]"
            ],
            "text/html": [
              "\n",
              "  <div id=\"df-07278bdc-b047-4133-8027-eab8bfa0a730\">\n",
              "    <div class=\"colab-df-container\">\n",
              "      <div>\n",
              "<style scoped>\n",
              "    .dataframe tbody tr th:only-of-type {\n",
              "        vertical-align: middle;\n",
              "    }\n",
              "\n",
              "    .dataframe tbody tr th {\n",
              "        vertical-align: top;\n",
              "    }\n",
              "\n",
              "    .dataframe thead th {\n",
              "        text-align: right;\n",
              "    }\n",
              "</style>\n",
              "<table border=\"1\" class=\"dataframe\">\n",
              "  <thead>\n",
              "    <tr style=\"text-align: right;\">\n",
              "      <th></th>\n",
              "      <th>date</th>\n",
              "      <th>LME Nickel Cash-Settlement</th>\n",
              "      <th>LME Nickel 3-month</th>\n",
              "      <th>LME Nickel stock</th>\n",
              "    </tr>\n",
              "  </thead>\n",
              "  <tbody>\n",
              "    <tr>\n",
              "      <th>0</th>\n",
              "      <td>2023-02-16</td>\n",
              "      <td>25860</td>\n",
              "      <td>26000</td>\n",
              "      <td>45432</td>\n",
              "    </tr>\n",
              "    <tr>\n",
              "      <th>1</th>\n",
              "      <td>2023-02-15</td>\n",
              "      <td>25805</td>\n",
              "      <td>26060</td>\n",
              "      <td>46566</td>\n",
              "    </tr>\n",
              "    <tr>\n",
              "      <th>2</th>\n",
              "      <td>2023-02-14</td>\n",
              "      <td>26900</td>\n",
              "      <td>26900</td>\n",
              "      <td>46710</td>\n",
              "    </tr>\n",
              "    <tr>\n",
              "      <th>3</th>\n",
              "      <td>2023-02-13</td>\n",
              "      <td>26755</td>\n",
              "      <td>27000</td>\n",
              "      <td>47958</td>\n",
              "    </tr>\n",
              "    <tr>\n",
              "      <th>4</th>\n",
              "      <td>2023-02-10</td>\n",
              "      <td>27710</td>\n",
              "      <td>28060</td>\n",
              "      <td>48072</td>\n",
              "    </tr>\n",
              "    <tr>\n",
              "      <th>...</th>\n",
              "      <td>...</td>\n",
              "      <td>...</td>\n",
              "      <td>...</td>\n",
              "      <td>...</td>\n",
              "    </tr>\n",
              "    <tr>\n",
              "      <th>1544</th>\n",
              "      <td>2017-01-09</td>\n",
              "      <td>10245</td>\n",
              "      <td>10285</td>\n",
              "      <td>372012</td>\n",
              "    </tr>\n",
              "    <tr>\n",
              "      <th>1545</th>\n",
              "      <td>2017-01-06</td>\n",
              "      <td>10185</td>\n",
              "      <td>10240</td>\n",
              "      <td>370920</td>\n",
              "    </tr>\n",
              "    <tr>\n",
              "      <th>1546</th>\n",
              "      <td>2017-01-05</td>\n",
              "      <td>10230</td>\n",
              "      <td>10280</td>\n",
              "      <td>370920</td>\n",
              "    </tr>\n",
              "    <tr>\n",
              "      <th>1547</th>\n",
              "      <td>2017-01-04</td>\n",
              "      <td>9975</td>\n",
              "      <td>10025</td>\n",
              "      <td>371724</td>\n",
              "    </tr>\n",
              "    <tr>\n",
              "      <th>1548</th>\n",
              "      <td>2017-01-03</td>\n",
              "      <td>10205</td>\n",
              "      <td>10270</td>\n",
              "      <td>372066</td>\n",
              "    </tr>\n",
              "  </tbody>\n",
              "</table>\n",
              "<p>1549 rows × 4 columns</p>\n",
              "</div>\n",
              "      <button class=\"colab-df-convert\" onclick=\"convertToInteractive('df-07278bdc-b047-4133-8027-eab8bfa0a730')\"\n",
              "              title=\"Convert this dataframe to an interactive table.\"\n",
              "              style=\"display:none;\">\n",
              "        \n",
              "  <svg xmlns=\"http://www.w3.org/2000/svg\" height=\"24px\"viewBox=\"0 0 24 24\"\n",
              "       width=\"24px\">\n",
              "    <path d=\"M0 0h24v24H0V0z\" fill=\"none\"/>\n",
              "    <path d=\"M18.56 5.44l.94 2.06.94-2.06 2.06-.94-2.06-.94-.94-2.06-.94 2.06-2.06.94zm-11 1L8.5 8.5l.94-2.06 2.06-.94-2.06-.94L8.5 2.5l-.94 2.06-2.06.94zm10 10l.94 2.06.94-2.06 2.06-.94-2.06-.94-.94-2.06-.94 2.06-2.06.94z\"/><path d=\"M17.41 7.96l-1.37-1.37c-.4-.4-.92-.59-1.43-.59-.52 0-1.04.2-1.43.59L10.3 9.45l-7.72 7.72c-.78.78-.78 2.05 0 2.83L4 21.41c.39.39.9.59 1.41.59.51 0 1.02-.2 1.41-.59l7.78-7.78 2.81-2.81c.8-.78.8-2.07 0-2.86zM5.41 20L4 18.59l7.72-7.72 1.47 1.35L5.41 20z\"/>\n",
              "  </svg>\n",
              "      </button>\n",
              "      \n",
              "  <style>\n",
              "    .colab-df-container {\n",
              "      display:flex;\n",
              "      flex-wrap:wrap;\n",
              "      gap: 12px;\n",
              "    }\n",
              "\n",
              "    .colab-df-convert {\n",
              "      background-color: #E8F0FE;\n",
              "      border: none;\n",
              "      border-radius: 50%;\n",
              "      cursor: pointer;\n",
              "      display: none;\n",
              "      fill: #1967D2;\n",
              "      height: 32px;\n",
              "      padding: 0 0 0 0;\n",
              "      width: 32px;\n",
              "    }\n",
              "\n",
              "    .colab-df-convert:hover {\n",
              "      background-color: #E2EBFA;\n",
              "      box-shadow: 0px 1px 2px rgba(60, 64, 67, 0.3), 0px 1px 3px 1px rgba(60, 64, 67, 0.15);\n",
              "      fill: #174EA6;\n",
              "    }\n",
              "\n",
              "    [theme=dark] .colab-df-convert {\n",
              "      background-color: #3B4455;\n",
              "      fill: #D2E3FC;\n",
              "    }\n",
              "\n",
              "    [theme=dark] .colab-df-convert:hover {\n",
              "      background-color: #434B5C;\n",
              "      box-shadow: 0px 1px 3px 1px rgba(0, 0, 0, 0.15);\n",
              "      filter: drop-shadow(0px 1px 2px rgba(0, 0, 0, 0.3));\n",
              "      fill: #FFFFFF;\n",
              "    }\n",
              "  </style>\n",
              "\n",
              "      <script>\n",
              "        const buttonEl =\n",
              "          document.querySelector('#df-07278bdc-b047-4133-8027-eab8bfa0a730 button.colab-df-convert');\n",
              "        buttonEl.style.display =\n",
              "          google.colab.kernel.accessAllowed ? 'block' : 'none';\n",
              "\n",
              "        async function convertToInteractive(key) {\n",
              "          const element = document.querySelector('#df-07278bdc-b047-4133-8027-eab8bfa0a730');\n",
              "          const dataTable =\n",
              "            await google.colab.kernel.invokeFunction('convertToInteractive',\n",
              "                                                     [key], {});\n",
              "          if (!dataTable) return;\n",
              "\n",
              "          const docLinkHtml = 'Like what you see? Visit the ' +\n",
              "            '<a target=\"_blank\" href=https://colab.research.google.com/notebooks/data_table.ipynb>data table notebook</a>'\n",
              "            + ' to learn more about interactive tables.';\n",
              "          element.innerHTML = '';\n",
              "          dataTable['output_type'] = 'display_data';\n",
              "          await google.colab.output.renderOutput(dataTable, element);\n",
              "          const docLink = document.createElement('div');\n",
              "          docLink.innerHTML = docLinkHtml;\n",
              "          element.appendChild(docLink);\n",
              "        }\n",
              "      </script>\n",
              "    </div>\n",
              "  </div>\n",
              "  "
            ]
          },
          "metadata": {},
          "execution_count": 2
        }
      ]
    },
    {
      "cell_type": "markdown",
      "source": [
        "### Step 2-1: 視覺化"
      ],
      "metadata": {
        "id": "tClze3qkd6Au"
      }
    },
    {
      "cell_type": "markdown",
      "source": [
        "從 2017 年 1 月至 2023 年 2 月中旬的每個交易日，鎳現金結算的走勢圖:  "
      ],
      "metadata": {
        "id": "zszFsSN5CwI0"
      }
    },
    {
      "cell_type": "code",
      "source": [
        "# 資料的起迄日\n",
        "start_date = str(data['date'].iloc[-1].date()) \n",
        "end_date = str(data['date'].iloc[0].date()) \n",
        "\n",
        "# 趨勢圖\n",
        "plt.figure(figsize=(14,6))\n",
        "plt.plot(data['date'], data['LME Nickel Cash-Settlement'])\n",
        "plt.title('Nickel Cash-Settlement \\nfrom '+start_date+' to '+end_date, fontsize=14)\n",
        "plt.xlabel('Year')\n",
        "plt.savefig('Trend_of_Nickel_Cash_Settlement.png', bbox_inches='tight', format='png')\n",
        "plt.show()"
      ],
      "metadata": {
        "colab": {
          "base_uri": "https://localhost:8080/",
          "height": 424
        },
        "id": "qSdPGd_7VEOG",
        "outputId": "3b72ded2-bd5a-46a2-bb2c-b3d0e3ea7176"
      },
      "execution_count": 3,
      "outputs": [
        {
          "output_type": "display_data",
          "data": {
            "text/plain": [
              "<Figure size 1008x432 with 1 Axes>"
            ],
            "image/png": "[encoded data removed]"
          },
          "metadata": {}
        }
      ]
    },
    {
      "cell_type": "markdown",
      "source": [
        "在上列趨勢圖中，加入國際重大事件的資訊:"
      ],
      "metadata": {
        "id": "8v13WKcy9inl"
      }
    },
    {
      "cell_type": "code",
      "source": [
        "# 國際重大事件\n",
        "events = pd.DataFrame({'date':[datetime.date(2019, 12, 1), datetime.date(2021, 1, 31), \n",
        "                               datetime.date(2022, 2, 24), datetime.date(2022, 3, 7)],\n",
        "                       'event':['COVID-19', 'Brexit', \n",
        "                                'Russo-Ukrainian War', 'Nickel prices rocketed 90% to all-time highs']})\n",
        "\n",
        "# 資料視覺化(包含國際重大事件)\n",
        "plt.figure(figsize=(14,6))\n",
        "plt.plot(data['date'], data['LME Nickel Cash-Settlement'])\n",
        "\n",
        "for i in range(len(events)):\n",
        "    plt.axvline(x=events['date'][i], lw=0.5, color='black', linestyle='-')\n",
        "    plt.annotate(str(events['event'][i]),  xy=(events['date'][i], 25000+i*5000))\n",
        "\n",
        "plt.title('Nickel Cash-Settlement \\nfrom '+start_date+' to '+end_date, fontsize=14)\n",
        "plt.xlabel('Year')\n",
        "plt.show()"
      ],
      "metadata": {
        "colab": {
          "base_uri": "https://localhost:8080/",
          "height": 424
        },
        "id": "Gce3yGQyaCDk",
        "outputId": "dba159f5-0c84-4ca5-cff6-168e6ebdfb7f"
      },
      "execution_count": 4,
      "outputs": [
        {
          "output_type": "display_data",
          "data": {
            "text/plain": [
              "<Figure size 1008x432 with 1 Axes>"
            ],
            "image/png": "[encoded data removed]"
          },
          "metadata": {}
        }
      ]
    },
    {
      "cell_type": "markdown",
      "source": [
        "2021年起的每個交易日，鎳現金結算的走勢圖:"
      ],
      "metadata": {
        "id": "hx2tK_qmAzX3"
      }
    },
    {
      "cell_type": "code",
      "source": [
        "# 妖鎳事件(2022年 3月 7日)\n",
        "event = pd.DataFrame({'date':[ datetime.date(2022, 3, 7)],\n",
        "                      'event':['Nickel prices rocketed 90% to all-time highs']})\n",
        "after_event = data['date'].dt.date>=datetime.date(2022, 3, 7)\n",
        "data['after_event'] = after_event.values\n",
        "\n",
        "# 2021 年起每個交易日的鎳現金結算\n",
        "date_idx = data.index[data['date'].dt.year>=2021].sort_values(ascending=False)\n",
        "dates = data.loc[date_idx, 'date']\n",
        "cash_settlement = data.loc[date_idx, 'LME Nickel Cash-Settlement']\n",
        "\n",
        "# 妖鎳事件發生後，每日交易日的鎳現金結算\n",
        "after_event_date_idx = data.index[data['after_event']==True].sort_values(ascending=False)\n",
        "after_event_dates = data.loc[after_event_date_idx, 'date']\n",
        "after_event_cash_settlement = data.loc[after_event_date_idx, 'LME Nickel Cash-Settlement']\n",
        "after_event_cash_settlement\n",
        "\n",
        "# 資料起迄日期\n",
        "start_date = str(dates[date_idx[0]].date())\n",
        "end_date = str(dates[date_idx[-1]].date())\n",
        "\n",
        "# 趨勢圖\n",
        "plt.figure(figsize=(12,6))\n",
        "plt.plot(dates, cash_settlement, color='gray')\n",
        "plt.plot(after_event_dates, after_event_cash_settlement, label='After Nickel’s 90% Price Surge ')\n",
        "plt.legend(loc=2)\n",
        "plt.yticks(np.arange(10000, 50000, 5000))\n",
        "plt.axvline(x=event['date'][0], lw=1.5, color='blue', linestyle='-')\n",
        "plt.annotate('Nickel prices rocketed 90% to all-time highs on 2022/3/7', color='blue', xy=(event['date'][0], 43500))\n",
        "plt.title('Nickel Cash Settlement\\nfrom '+start_date+' to '+end_date, fontsize=14)\n",
        "plt.xlabel('Year-Month')\n",
        "plt.show()"
      ],
      "metadata": {
        "colab": {
          "base_uri": "https://localhost:8080/",
          "height": 424
        },
        "id": "BeRTTNgMZmbn",
        "outputId": "02d6714d-43ee-44c6-d565-6357424b27c9"
      },
      "execution_count": 5,
      "outputs": [
        {
          "output_type": "display_data",
          "data": {
            "text/plain": [
              "<Figure size 864x432 with 1 Axes>"
            ],
            "image/png": "[encoded data removed]"
          },
          "metadata": {}
        }
      ]
    },
    {
      "cell_type": "markdown",
      "source": [
        "## Step 3: 計算 KL 散度與 JS 散度 "
      ],
      "metadata": {
        "id": "EmxZYZpvSzcO"
      }
    },
    {
      "cell_type": "markdown",
      "source": [
        "### Step 3-1: 定義函數  \n",
        "\n",
        "有關 KL 散度與 JS 散度的計算， Python 程式碼執行的步驟如下:    \n",
        "\n",
        "*   **Step 1**:  \n",
        "透過 [Softmax 函數](https://en.wikipedia.org/wiki/Softmax_function)，將原始資料做尺度的縮放，從原始的尺度轉換到 $(0, 1)$ 區間中。經由轉換後，我們可將其每個轉換後的數值，視為原始數據的發生機率。 \n",
        "*   **Step 2**:  \n",
        "利用 SciPy 套件中的 [```scipy.stats.entropy()```](https://docs.scipy.org/doc/scipy/reference/generated/scipy.stats.entropy.html#scipy-stats-entropy) 函數，定義用來計算 KL 散度與 JS 散度的函數。"
      ],
      "metadata": {
        "id": "ILUGGma8KWC9"
      }
    },
    {
      "cell_type": "markdown",
      "source": [
        "定義 Softmax 轉換函數: "
      ],
      "metadata": {
        "id": "Y7RvySE9wv-U"
      }
    },
    {
      "cell_type": "code",
      "source": [
        "def softmax(in_data):\n",
        "    \"\"\"\n",
        "    Softmax 函數。 \n",
        "    \n",
        "    params:\n",
        "        in_data (series): 資料集\n",
        "        \n",
        "    returns:\n",
        "        out_data (series): 轉換後的資料集\n",
        "    \"\"\"\n",
        "\n",
        "    scaled_in_data = in_data/10000\n",
        "    out_data = (np.exp(scaled_in_data)/np.exp(scaled_in_data).sum())\n",
        "    \n",
        "    return out_data "
      ],
      "metadata": {
        "id": "KxjHVlhbOu4W"
      },
      "execution_count": 12,
      "outputs": []
    },
    {
      "cell_type": "markdown",
      "source": [
        "定義計算 KL 散度與 JS 散度的函數:"
      ],
      "metadata": {
        "id": "ldxiv6_fw3gm"
      }
    },
    {
      "cell_type": "code",
      "source": [
        "def calc_kl_div(p_prob, q_prob):\n",
        "    \"\"\"\n",
        "    計算兩機率分布的 KL 散度(Kullback-Leibler Divergence)。 \n",
        "    \n",
        "    params:\n",
        "        p_prob (series): 機率分布 P\n",
        "        q_prob (series): 機率分布 Q\n",
        "        \n",
        "    returns:\n",
        "        kl_divergence (float): KL 散度\n",
        "    \"\"\"\n",
        "\n",
        "    if len(p_prob)!=len(q_prob):\n",
        "        raise ValueError('兩機率分布的資料集長度須相同。')\n",
        "    \n",
        "    kl_divergence = scipy.stats.entropy(p_prob, q_prob)\n",
        "\n",
        "    return kl_divergence"
      ],
      "metadata": {
        "id": "GfToc8s9VDBF"
      },
      "execution_count": 13,
      "outputs": []
    },
    {
      "cell_type": "code",
      "source": [
        "def calc_js_div(p_prob, q_prob):\n",
        "    \"\"\"\n",
        "    計算兩機率分布的 JS 散度(Jensen-Shannon Divergence)。 \n",
        "    \n",
        "    params:\n",
        "        p_prob (series): 機率分布 P\n",
        "        q_prob (series): 機率分布 Q\n",
        "        \n",
        "    returns:\n",
        "        js_divergence (float): JS 散度\n",
        "    \"\"\"\n",
        "\n",
        "    if len(p_prob)!=len(q_prob):\n",
        "        raise ValueError('兩機率分布的資料集長度須相同。')\n",
        "\n",
        "    p_prob.reset_index(drop=True, inplace=True)\n",
        "    q_prob.reset_index(drop=True, inplace=True)\n",
        "    m = (p_prob + q_prob)/2\n",
        "    js_divergence = (scipy.stats.entropy(p_prob, m)+scipy.stats.entropy(q_prob, m))/2\n",
        "\n",
        "    return js_divergence"
      ],
      "metadata": {
        "id": "I4V4tMSWga-I"
      },
      "execution_count": 14,
      "outputs": []
    },
    {
      "cell_type": "markdown",
      "source": [
        "透過滑動視窗的方式，對時序資料進行 KL 散度與 JS 散度的計算，以偵測數據分布是否隨著時間，發生明顯的偏移:"
      ],
      "metadata": {
        "id": "xNajZZeiw9rv"
      }
    },
    {
      "cell_type": "code",
      "source": [
        "def drift_detector(data, detect_col_name, sliding_window_size, shift_date_step=5, shift_p_threshold=np.nan):\n",
        "    '''\n",
        "    利用滑動視窗的方式，偵測時序資料是否發生數據飄移的現象。\n",
        "\n",
        "    Args:\n",
        "        data (dataframe): 資料集(具有時間日期的欄位)\n",
        "        detect_col_name (str): 欲偵測的欄位名稱\n",
        "        sliding_window_size (int): 滑動視窗的大小\n",
        "        shift_date_step (int): 滑動視窗位移的步數，預設為 5\n",
        "        shift_p_threshold (int): 若為 np.nan，則 P 的移動窗格固定不動。\n",
        "\n",
        "    Returns:\n",
        "        output_data (dataframe): 各時間點下的偵測結果。\n",
        "    '''\n",
        "\n",
        "    if not isinstance(data, pd.DataFrame):\n",
        "        raise TypeError('data 參數的資料型態須為 pd.DataFrame。')\n",
        "\n",
        "    date_idx = data.index\n",
        "    \n",
        "    # 建立空的 dataframe 用以儲存偵測結果\n",
        "    output_data = pd.DataFrame(columns=['p_data', 'p_idx', 'p_date', 'q_data', 'q_idx', 'q_date',\n",
        "                                        'p_prob', 'q_prob', 'kl_divergence', 'js_divergence', 'increment_count'])\n",
        "\n",
        "    for iter_idx, i in enumerate(range(0, len(date_idx)-sliding_window_size+1, shift_date_step)):\n",
        "\n",
        "        if iter_idx==0:               \n",
        "            if not shift_p_threshold is np.nan:\n",
        "                increment_count = 0\n",
        "                shift_p_data = False\n",
        "\n",
        "            # 篩選 P 的資料\n",
        "            p_idx = date_idx[i:i+sliding_window_size]\n",
        "            p_data = data.loc[p_idx, detect_col_name] # Series Type        \n",
        "\n",
        "        else:  \n",
        "            # 篩選 Q 的資料\n",
        "            q_idx = date_idx[i:i+sliding_window_size]\n",
        "            q_data = data.loc[q_idx, detect_col_name] # Series Type\n",
        "            \n",
        "            # 藉由 softmax 函數，進行資料轉換\n",
        "            p_prob = softmax(p_data)\n",
        "            q_prob = softmax(q_data)\n",
        "\n",
        "            # 計算 KL 散度\n",
        "            kl_divergence = calc_kl_div(p_prob, q_prob)\n",
        "\n",
        "            # 計算 JS 散度\n",
        "            js_divergence = calc_js_div(p_prob, q_prob)\n",
        "            \n",
        "            # 儲存計算結果與相關資訊\n",
        "            output_data.loc[len(output_data.index)] = [p_data, p_idx, data.loc[p_idx, 'date'],\n",
        "                                                       q_data, q_idx, data.loc[q_idx, 'date'],\n",
        "                                                       p_prob, q_prob, kl_divergence, js_divergence, np.nan]\n",
        "    \n",
        "            if not shift_p_threshold is np.nan:\n",
        "                # 紀錄 KL 散度連續遞增的次數\n",
        "                if iter_idx==1:\n",
        "                    output_data.at[len(output_data.index)-1, 'increment_count'] = 0\n",
        "\n",
        "                else:\n",
        "                    if shift_p_data is True:\n",
        "                        output_data.at[len(output_data.index)-1, 'increment_count'] = 0\n",
        "                        shift_p_data = False\n",
        "                    \n",
        "                    else:\n",
        "                        previous_kl_divergence = output_data['kl_divergence'][iter_idx-2]\n",
        "\n",
        "                        if kl_divergence>previous_kl_divergence:\n",
        "                            increment_count += 1\n",
        "\n",
        "                        else:\n",
        "                            increment_count = 0    \n",
        "\n",
        "                        output_data.at[len(output_data.index)-1, 'increment_count'] = increment_count\n",
        "                      \n",
        "                        if increment_count==shift_p_threshold:\n",
        "                            p_idx = q_idx\n",
        "                            p_data = q_data\n",
        "                            increment_count = 0\n",
        "                            shift_p_data = True\n",
        "\n",
        "    output_data.index = output_data.index+1\n",
        "\n",
        "    return output_data"
      ],
      "metadata": {
        "id": "XE2Di15gXoDS"
      },
      "execution_count": 15,
      "outputs": []
    },
    {
      "cell_type": "markdown",
      "source": [
        "繪製每個時間點偵測結果的視覺化:"
      ],
      "metadata": {
        "id": "VgFCYOBZNXDt"
      }
    },
    {
      "cell_type": "code",
      "source": [
        "def plot_output_image(detection_data, detect_col_name, detection_result, folder_name='output_imgs'):\n",
        "    '''\n",
        "    視覺化各時間點 KL 散度與 JS 散度的計算結果。\n",
        "\n",
        "    Args:\n",
        "        detection_data (dataframe): 待偵測的原始資料集(具有時間日期的欄位)\n",
        "        detect_col_name (str): 欲偵測的欄位名稱\n",
        "        detection_result (dataframe): 各時間點下的偵測結果\n",
        "        folder_name (str): 儲存圖片的資料夾名稱\n",
        "\n",
        "    Returns:\n",
        "        對各時間點的偵測結果，將其視覺化且儲成圖片。\n",
        "    '''    \n",
        "    \n",
        "    # 建立儲存圖片的資料夾\n",
        "    img_folder = os.path.join(os.getcwd(), folder_name)\n",
        "    if not os.path.exists(img_folder):\n",
        "        os.makedirs(img_folder)\n",
        "\n",
        "    img_paths = []\n",
        "    for i in list(detection_result.index):  \n",
        "        \n",
        "        current_kl_div = detection_result.loc[i, 'kl_divergence']\n",
        "        current_js_div = detection_result.loc[i, 'js_divergence']\n",
        "        p_data = detection_result.loc[i, 'p_data']\n",
        "        q_data = detection_result.loc[i, 'q_data'] \n",
        "        p_prob = detection_result.loc[i, 'p_prob']\n",
        "        q_prob = detection_result.loc[i, 'q_prob']\n",
        "        p_date = detection_result.loc[i, 'p_date']\n",
        "        q_date = detection_result.loc[i, 'q_date']\n",
        "        p_start_date = str(list(p_date)[0].date())\n",
        "        p_end_date = str(list(p_date)[-1].date())\n",
        "        q_start_date = str(list(q_date)[0].date())\n",
        "        q_end_date = str(list(q_date)[-1].date())\n",
        "        idx_of_sliding_win = range(1, len(p_prob)+1)\n",
        "\n",
        "        fig = plt.figure(figsize=(15, 10), constrained_layout=True)\n",
        "        gs = gridspec.GridSpec(3, 2, figure=fig)\n",
        "\n",
        "        ax1 = fig.add_subplot(gs[0, 0])\n",
        "        y_upper_bound = round(detection_data[detect_col_name].max(), -3)\n",
        "\n",
        "        ax1.plot(detection_data['date'], detection_data[detect_col_name], color='gray', alpha=0.5)\n",
        "        ax1.fill_between(p_date, p_data, alpha=0.6, label='P: from '+p_start_date+' to '+p_end_date)\n",
        "        ax1.fill_between(q_date, q_data, alpha=0.6, label='Q: from '+q_start_date+' to '+q_end_date)\n",
        "        ax1.legend(loc=2)\n",
        "        ax1.set_ylim([0, y_upper_bound*1.05])\n",
        "        ax1.set_title('Nickel Cash Settlement')\n",
        "        ax1.set_xlabel('Date')\n",
        "\n",
        "        ax2 = fig.add_subplot(gs[0, 1])\n",
        "        y_max = math.ceil(max(p_prob.max(), q_prob.max())*(10**3))/10**3 # 無條件進位到小數點後 3 位\n",
        "\n",
        "        ax2.fill_between(idx_of_sliding_win, p_prob, alpha=0.6, label='P')\n",
        "        ax2.fill_between(idx_of_sliding_win, q_prob, alpha=0.6, label='Q')\n",
        "        ax2.legend(loc=2)\n",
        "        ax2.set_ylim([0, y_max*1.5])\n",
        "        ax2.set_title('Distribution of P and Q')\n",
        "        ax2.set_xlabel('Index of Sliding Window')\n",
        "\n",
        "        ax3 = fig.add_subplot(gs[1, :])\n",
        "        ax3.plot(detection_result.loc[0:i, 'kl_divergence'], marker='o', color='green', \n",
        "                 markersize=1, alpha=0.25)        \n",
        "        ax3.plot(i, detection_result.loc[i, 'kl_divergence'], marker='o', color='green', markersize=6,\n",
        "                 label='KL Div.= '+str(round(current_kl_div, 6)))\n",
        "        ax3.legend(loc=2, fontsize=12)\n",
        "\n",
        "        if i<=50: \n",
        "            ax3.set_xticks(list(range(1, i+1)))\n",
        "        else:\n",
        "            ax3.set_xticks(list(range(1, i+1, 5)))\n",
        "\n",
        "        ax3.set_xticklabels([])\n",
        "        ax3.set_ylabel('KL Div.', color='green')\n",
        "        plt.title('Kullback-Leibler and Jensen-Shannon Divergence', fontsize=16)\n",
        "        \n",
        "        ax4 = fig.add_subplot(gs[2, :])\n",
        "        ax4.plot(detection_result.loc[0:i, 'js_divergence'], marker='o', color='blue', \n",
        "                 markersize=1, alpha=0.25)        \n",
        "        ax4.plot(i, detection_result.loc[i, 'js_divergence'], marker='o', color='blue', markersize=6,\n",
        "                 label='JS Div.= '+str(round(current_js_div, 6)))\n",
        "        ax4.legend(loc=2, fontsize=12)\n",
        "\n",
        "        if i<=50:\n",
        "            ax4.set_xticks(list(range(1, i+1)))\n",
        "            ax4.set_xticklabels(list(range(1, i+1)))\n",
        "        else:\n",
        "            ax4.set_xticks(list(range(1, i+1, 5)))\n",
        "            ax4.set_xticklabels(list(range(1, i+1, 5)))\n",
        "\n",
        "        ax4.set_xlabel('Iteration of Detection')\n",
        "        ax4.set_ylabel('JS Div.', color='blue')\n",
        "\n",
        "        # 儲存圖片\n",
        "        img_path = os.path.join(img_folder, str(i)+'.png') \n",
        "        plt.savefig(img_path, bbox_inches='tight', format='png')\n",
        "        img_paths.append(img_path)\n",
        "        plt.show()\n",
        "\n",
        "    return img_paths"
      ],
      "metadata": {
        "id": "SUqKgdhNNkiu"
      },
      "execution_count": 16,
      "outputs": []
    },
    {
      "cell_type": "code",
      "source": [
        "def create_gif(img_paths, gif_name, gif_duration=100, gif_loop=3):\n",
        "    '''\n",
        "    製作 gif 檔。\n",
        "\n",
        "    Args:\n",
        "        img_paths (list): 每張圖片的路徑(包含檔名)\n",
        "        gif_name (str): gif 檔的檔名(.gif)\n",
        "        gif_duration (int): 每一禎的持續時間\n",
        "        gif_loop (int): 動畫的重複次數\n",
        "    '''    \n",
        "\n",
        "    # 繪製 gif 檔\n",
        "    Frames = []\n",
        "    for img in img_paths: \n",
        "        frame = Image.open(img)\n",
        "        Frames.append(frame)\n",
        "\n",
        "    gif_path = os.path.join(os.getcwd(), gif_name)\n",
        "    Frames[0].save(gif_path, save_all=True, append_images=Frames[1:], \n",
        "                   duration=gif_duration, loop=gif_loop)"
      ],
      "metadata": {
        "id": "-Bz1yBWeeusX"
      },
      "execution_count": 17,
      "outputs": []
    },
    {
      "cell_type": "markdown",
      "source": [
        "### Step 3-2: 滑動視窗偵測數據飄移\n",
        "\n",
        "\n"
      ],
      "metadata": {
        "id": "TvB8DL0yNCpq"
      }
    },
    {
      "cell_type": "code",
      "source": [
        "# 篩選 2021 年後的資料\n",
        "detection_data = data[data['date'].dt.year>=2021]\n",
        "\n",
        "# 將日期由遠到近重新排序\n",
        "detection_data = detection_data.sort_values(by='date') \n",
        "\n",
        "# 參數設定:\n",
        "## 滑動視窗的大小\n",
        "sliding_window_size = 60\n",
        "## 滑動視窗位移的步數\n",
        "shift_date_step = 5\n",
        "\n",
        "# 滑動視窗偵測\n",
        "output_without_shift_p = drift_detector(detection_data, \n",
        "                                        'LME Nickel Cash-Settlement', \n",
        "                                        sliding_window_size, shift_date_step)"
      ],
      "metadata": {
        "id": "mqHj6N6OYhmv"
      },
      "execution_count": 18,
      "outputs": []
    },
    {
      "cell_type": "markdown",
      "source": [
        "## Step 4: 視覺化結果  \n",
        "\n",
        "<p align=\"left\">\n",
        "<img width=\"550\" src=\"https://raw.githubusercontent.com/YenLinWu/Model_Drift/dev/KL_and_JS_Divergence/Imgs/Data_Shift_Detection_in_KL_and_JS_Divergence.gif\">\n",
        "</p>"
      ],
      "metadata": {
        "id": "d2erI4gVl4P5"
      }
    },
    {
      "cell_type": "code",
      "source": [
        "# 繪製每次偵測的結果\n",
        "img_paths = plot_output_image(detection_data, 'LME Nickel Cash-Settlement', \n",
        "                              output_without_shift_p, folder_name='output_imgs')"
      ],
      "metadata": {
        "id": "GOVXZhyCcL09"
      },
      "execution_count": null,
      "outputs": []
    },
    {
      "cell_type": "code",
      "source": [
        "# 製作 gif 檔\n",
        "create_gif(img_paths, gif_name='Data_Drift_Detection_in_KL_and_JS_Divergence.gif', \n",
        "           gif_duration=100, gif_loop=3)"
      ],
      "metadata": {
        "id": "xyPA2VEKhFWT"
      },
      "execution_count": 20,
      "outputs": []
    },
    {
      "cell_type": "markdown",
      "source": [
        "# 參考資料  \n",
        "\n",
        "### 文章\n",
        "* Cory Maklin (2022), *KL Divergence Python Example*,  \n",
        "from [https://towardsdatascience.com/kl-divergence-python-example-b87069e4b810](https://towardsdatascience.com/kl-divergence-python-example-b87069e4b810).  \n",
        "* Vatsal P. (2022), *Calculating Data Drift in Machine Learning using Python*,  \n",
        "from [https://towardsdatascience.com/calculating-data-drift-in-machine-learning-53676ff5646b](https://towardsdatascience.com/calculating-data-drift-in-machine-learning-53676ff5646b).  \n",
        "* Kenneth Chen (2021), *Automating Data Drift Thresholding in Machine Learning Systems*,   \n",
        "from [https://towardsdatascience.com/automating-data-drift-thresholding-in-machine-learning-systems-524e6259f59f](https://towardsdatascience.com/automating-data-drift-thresholding-in-machine-learning-systems-524e6259f59f).\n",
        "* Srikanth Machiraju (2021), *Why data drift detection is important and how do you automate it in 5 simple steps*,   \n",
        "from [https://towardsdatascience.com/why-data-drift-detection-is-important-and-how-do-you-automate-it-in-5-simple-steps-96d611095d93](https://towardsdatascience.com/why-data-drift-detection-is-important-and-how-do-you-automate-it-in-5-simple-steps-96d611095d93).  \n",
        "* Jason Brownlee (2019), *How to Calculate the KL Divergence for Machine Learning*,   \n",
        "from [https://machinelearningmastery.com/divergence-between-probability-distributions/](https://machinelearningmastery.com/divergence-between-probability-distributions/).  \n",
        "* Will Kurt (2017), *Kullback-Leibler Divergence Explained*,  \n",
        "from [https://www.countbayesie.com/blog/2017/5/9/kullback-leibler-divergence-explained](https://www.countbayesie.com/blog/2017/5/9/kullback-leibler-divergence-explained).\n",
        "\n",
        "### 書籍\n",
        "* Kevin P. Murphy (2012), [*Machine Learning: A Probabilistic Perspective*](https://www.amazon.com/Machine-Learning-Probabilistic-Perspective-Computation/dp/0262018020/ref=as_li_ss_tl?keywords=machine+learning&qid=1563150905&s=books&sr=1-7&linkCode=sl1&tag=inspiredalgor-20&linkId=36ea988ab0adb253f90b6e4f0c27454f&language=en_US), The MIT Press, p 57-58.    \n",
        "* Jake VanderPlas (2016), [*Python Data Science Handbook*](https://www.amazon.com/_/dp/1491912057?tag=oreilly20-20), O'Reilly Media, Inc.\n",
        "(GitHub : [Python Data Science Handbook](https://github.com/jakevdp/PythonDataScienceHandbook))"
      ],
      "metadata": {
        "id": "j-_jU5uKPLCT"
      }
    }
  ]
}