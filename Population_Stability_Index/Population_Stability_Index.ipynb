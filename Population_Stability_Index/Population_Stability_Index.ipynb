{
  "nbformat": 4,
  "nbformat_minor": 0,
  "metadata": {
    "colab": {
      "provenance": [],
      "collapsed_sections": [
        "dFX6Uu9mFkBB",
        "NHp3t-P1PvMn",
        "B7MYKbzfFzCu"
      ]
    },
    "kernelspec": {
      "name": "python3",
      "display_name": "Python 3"
    },
    "language_info": {
      "name": "python"
    }
  },
  "cells": [
    {
      "cell_type": "markdown",
      "source": [
        "<div align='center' ><font size='70'>母體穩定性指標 </br> \n",
        " Population Stability Index</font></div>\n",
        "\n",
        "<center>      \n",
        "About Author      \n",
        "  \n",
        "[![Linkedin](https://img.shields.io/badge/LinkedIn-0077B5?style=for-the-badge&logo=linkedin&logoColor=white)](https://www.linkedin.com/in/yenlinwu/)    [![GitHub](https://img.shields.io/badge/github-%23121011.svg?style=for-the-badge&logo=github&logoColor=white)](https://github.com/YenLinWu)\n",
        "</center>"
      ],
      "metadata": {
        "id": "KIGV8G53yAri"
      }
    },
    {
      "cell_type": "markdown",
      "metadata": {
        "id": "view-in-github"
      },
      "source": [
        "<a href=\"https://colab.research.google.com/github/YenLinWu/Model_Drift/blob/dev/Population_Stability_Index/Population_Stability_Index.ipynb\" target=\"_parent\"><img src=\"https://colab.research.google.com/assets/colab-badge.svg\" alt=\"Open In Colab\"/></a>"
      ]
    },
    {
      "cell_type": "markdown",
      "source": [
        "# PSI - 介紹"
      ],
      "metadata": {
        "id": "FjXOpbZvFffM"
      }
    },
    {
      "cell_type": "markdown",
      "source": [
        "<font color=\"#dddd00\">母體穩定性指標</font>(<font color=\"#dddd00\">P</font>opulation<font color=\"#dddd00\"> S</font>tability <font color=\"#dddd00\">I</font>ndex, <font color=\"#dddd00\">PSI</font>)係一種衡量兩樣本之間相似度的統計距離。對於單一變數的數據飄移(Data Drift)監測，PSI 也是一種常用的方法，PSI 可用以檢測此變數在不同時間點的分佈是否有明顯的不同，藉此評量此變數的穩定性。\n",
        "\n",
        "PSI 的計算過程，係先將兩樣本資料分組離散化(Discretization)，且分別計算在各組別中的佔比，最後，加總每個組別的兩佔比差乘兩佔比的比例取自然對數， PSI 的計算公式如下:  \n",
        "\n",
        "$$\\text{PSI} = \\sum_{i=1}^{M} (R_{p, g_i}-R_{q, g_i}) \\times \\ln \\big(\\frac{R_{p, g_i}}{R_{q, g_i}} \\big), $$\n",
        "\n",
        "其中， $M$ 為資料離散化的分組個數，也就是說，資料離散化分割成 $M$ 組 $g_1, g_2, \\cdots, g_M$；$R_{p, g_i}$ 與 $R_{q, g_i}$ 分別為樣本 $P$ 與樣本 $Q$ 在 $g_i$ 分組中的個數佔比。   \n",
        "\n",
        "當我們使用 PSI 監測單一變數隨著時間的推移，是否有數據飄移的現象時，PSI 值越小表示此變數在不同時間點的差異越小，因此，隨著時間的推移，若 PSI 值持續很小，則表示此變數的穩定性高。一般而言，PSI 值的評量基準如下:  \n",
        "\n",
        "* 當 $\\text{PSI} < 0.1$，此變數在不同時間點的資料分佈僅些微不同，此變數的穩定性高；\n",
        "* 當 $0.1 \\leq \\text{PSI} < 0.25$ (或 $0.2$)，此變數在不同時間點的資料分佈有局部不同，此變數略不穩定，須持續密切觀察； \n",
        "* 當 $0.25 \\leq \\text{PSI}$ (或 $0.2 \\leq \\text{PSI}$)，此變數在不同時間點的資料分佈有極大不同，此變數有明顯的變化不穩定。  \n",
        "\n",
        "\n"
      ],
      "metadata": {
        "id": "o_Bhu4abxnz9"
      }
    },
    {
      "cell_type": "markdown",
      "source": [
        "# PSI - 應用"
      ],
      "metadata": {
        "id": "dFX6Uu9mFkBB"
      }
    },
    {
      "cell_type": "markdown",
      "source": [
        "在機器學習的領域中，PSI 有下列的應用:  \n",
        "\n",
        "1. **特徵選擇(Feature Selection)**  \n",
        "PSI 可用於評估不同的特徵在不同時間點或不同群體中的穩定性，可以協助我們判斷出相對穩定的特徵，進而提升模型的穩定性。\n",
        "\n",
        "2. **偵測數據飄移**   \n",
        "PSI 可用以觀察特定的特徵分布，是否發生了重大的變化，進而探索造成這重大變化的原因。\n",
        "\n",
        "3. **監控模型**   \n",
        "PSI 可用以檢測模型在不同時間點或不同族群中的差異程度，進而評估模型是否需調整或重新訓練。  \n",
        "\n"
      ],
      "metadata": {
        "id": "8HHfcjFOFkQu"
      }
    },
    {
      "cell_type": "markdown",
      "source": [
        "# Python 程式碼\n",
        "\n",
        "下列我們將藉由鎳現金結算(Nickel Cash Settlement)的市場資料，示範如何運用 PSI 衡量資料偏移。  \n",
        "\n",
        "我們將使用 2023 年起每個交易日的鎳現金結算(截至 2023 年 5 月 10 日)，透過兩種不同的偵測方式，觀察資料是否產生明顯的偏移現象?\n",
        "\n",
        "<p align=\"left\">\n",
        "<img width=\"550\" src=\"https://raw.githubusercontent.com/YenLinWu/Model_Drift/dev/Population_Stability_Index/Imgs/Nickel_Price_Trend.png\">\n",
        "</p>\n",
        "\n",
        "* 資料來源: [Westmetall - Market data](https://www.westmetall.com/en/markdaten.php?action=table&field=LME_Ni_cash)\n",
        "  \n",
        "</br>  \n",
        "\n",
        "我們將使用滑動視窗來偵測資料是否偏移，滑動視窗的偵測方式分為兩種，如下說明:    \n",
        "\n",
        "* 方法一  \n",
        "固定滑動視窗 P、移動滑動視窗 Q，如下圖所示:\n",
        "<p align=\"left\">\n",
        "<img width=\"450\" src=\"https://raw.githubusercontent.com/YenLinWu/Model_Drift/dev/Population_Stability_Index/Imgs/Illustration_of_1_Fixed_Sliding_Window.png\">\n",
        "</p>\n",
        "【偵測結果】</br> 以 2023 年頭 30 天的鎳現金結算為基礎，藉由方法一的偵測方式，我們可清楚地發現，近 30 天與年初 30 天的價格趨勢已有明顯差異，且隨著時間的推移，PSI 值逐漸變大，鎳現金結算的資料並不穩定。\n",
        "<p align=\"left\">\n",
        "<img width=\"450\" src=\"https://raw.githubusercontent.com/YenLinWu/Model_Drift/dev/Population_Stability_Index/Imgs/Data_Drift_Detection_in_PSI_with_fixed_1_sliding_window.gif\">\n",
        "</p>\n",
        "</br>\n",
        "\n",
        "* 方法二  \n",
        "滑動視窗 P 與 Q 皆會移動，而，滑動視窗 P 的移動，係依據前幾次的 PSI 值，如下圖所示:   \n",
        "<p align=\"left\">\n",
        "<img width=\"450\" src=\"https://raw.githubusercontent.com/YenLinWu/Model_Drift/dev/Population_Stability_Index/Imgs/Illustration_of_2_Unfixed_Sliding_Windows.png\">\n",
        "</p>\n",
        "【偵測結果】</br>下圖的偵測結果，滑動視窗 P 的移動，係當連續 5 次的 PSI 值超過 0.25 時，在進行下一次偵測時，將會以前一次滑動視窗 Q 的資料，作為這一次滑動視窗 P 的資料。</br>\n",
        "從 2023 年 1月的鎳現金結算開始，藉由方法二的偵測方式，我們可觀察到，在 3 月初之後(Iteration $\\geq$ 49)，鎳現金結算的走勢較 3 月之前來得較穩定。   \n",
        "<p align=\"left\">\n",
        "<img width=\"450\" src=\"https://raw.githubusercontent.com/YenLinWu/Model_Drift/dev/Population_Stability_Index/Imgs/Data_Drift_Detection_in_PSI_with_unfixed_2_sliding_windows.gif\">\n",
        "</p>\n"
      ],
      "metadata": {
        "id": "skiMudCIPBG4"
      }
    },
    {
      "cell_type": "markdown",
      "source": [
        "## Step 1: 匯入套件"
      ],
      "metadata": {
        "id": "-gEblSnMPp9Q"
      }
    },
    {
      "cell_type": "code",
      "execution_count": null,
      "metadata": {
        "colab": {
          "base_uri": "https://localhost:8080/"
        },
        "id": "vkVE1EhNwQNV",
        "outputId": "6fdd4c8b-c883-4456-f5fe-5de38ba34221"
      },
      "outputs": [
        {
          "output_type": "stream",
          "name": "stdout",
          "text": [
            "Python Version: 3.10.11\n",
            "Numpy Version: 1.22.4\n",
            "Pandas Version: 1.5.3\n",
            "SciPy Version: 1.10.1\n",
            "Matplotlib Version: 3.7.1\n"
          ]
        }
      ],
      "source": [
        "import sys\n",
        "import os\n",
        "import math\n",
        "import datetime\n",
        "\n",
        "import numpy as np\n",
        "import pandas as pd\n",
        "import scipy\n",
        "import matplotlib\n",
        "import matplotlib.pyplot as plt\n",
        "import matplotlib.gridspec as gridspec\n",
        "plt.style.use('ggplot')\n",
        "from PIL import Image\n",
        "\n",
        "# 套件版本\n",
        "print('Python Version:', sys.version[0:7]) \n",
        "print('Numpy Version:', np.__version__)\n",
        "print('Pandas Version:', pd.__version__)\n",
        "print('SciPy Version:', scipy.__version__)\n",
        "print('Matplotlib Version:', matplotlib.__version__)"
      ]
    },
    {
      "cell_type": "markdown",
      "source": [
        "## Step 2: 匯入資料  \n",
        "\n"
      ],
      "metadata": {
        "id": "NHp3t-P1PvMn"
      }
    },
    {
      "cell_type": "code",
      "source": [
        "# 資料讀取\n",
        "file_name = r'Nickel_Market_Info.xlsx'\n",
        "data_path = os.path.join(os.getcwd(), file_name)\n",
        "data = pd.read_excel(data_path, sheet_name='LME_Market_Data')\n",
        "\n",
        "# 字串型態的日期轉換成日期型態\n",
        "data['date'] = pd.to_datetime(data['date'], format='%d. %B %Y')  \n",
        "\n",
        "data"
      ],
      "metadata": {
        "colab": {
          "base_uri": "https://localhost:8080/",
          "height": 423
        },
        "id": "40u35wu97M54",
        "outputId": "afeafcdc-a754-4167-da80-c175b9f644ca"
      },
      "execution_count": null,
      "outputs": [
        {
          "output_type": "execute_result",
          "data": {
            "text/plain": [
              "           date  LME Nickel Cash-Settlement LME Nickel 3-month  \\\n",
              "0    2023-05-10                       23035              23050   \n",
              "1    2023-05-09                       23930              24050   \n",
              "2    2023-05-05                       23800              23850   \n",
              "3    2023-05-04                       25100              25150   \n",
              "4    2023-05-03                       25100              25100   \n",
              "...         ...                         ...                ...   \n",
              "1599 2017-01-09                       10245              10285   \n",
              "1600 2017-01-06                       10185              10240   \n",
              "1601 2017-01-05                       10230              10280   \n",
              "1602 2017-01-04                        9975              10025   \n",
              "1603 2017-01-03                       10205              10270   \n",
              "\n",
              "     LME Nickel stock  \n",
              "0               39444  \n",
              "1               39912  \n",
              "2               40110  \n",
              "3               39630  \n",
              "4               39966  \n",
              "...               ...  \n",
              "1599           372012  \n",
              "1600           370920  \n",
              "1601           370920  \n",
              "1602           371724  \n",
              "1603           372066  \n",
              "\n",
              "[1604 rows x 4 columns]"
            ],
            "text/html": [
              "\n",
              "  <div id=\"df-6d0b3b5c-09bc-4e50-954e-5cb5a529fe49\">\n",
              "    <div class=\"colab-df-container\">\n",
              "      <div>\n",
              "<style scoped>\n",
              "    .dataframe tbody tr th:only-of-type {\n",
              "        vertical-align: middle;\n",
              "    }\n",
              "\n",
              "    .dataframe tbody tr th {\n",
              "        vertical-align: top;\n",
              "    }\n",
              "\n",
              "    .dataframe thead th {\n",
              "        text-align: right;\n",
              "    }\n",
              "</style>\n",
              "<table border=\"1\" class=\"dataframe\">\n",
              "  <thead>\n",
              "    <tr style=\"text-align: right;\">\n",
              "      <th></th>\n",
              "      <th>date</th>\n",
              "      <th>LME Nickel Cash-Settlement</th>\n",
              "      <th>LME Nickel 3-month</th>\n",
              "      <th>LME Nickel stock</th>\n",
              "    </tr>\n",
              "  </thead>\n",
              "  <tbody>\n",
              "    <tr>\n",
              "      <th>0</th>\n",
              "      <td>2023-05-10</td>\n",
              "      <td>23035</td>\n",
              "      <td>23050</td>\n",
              "      <td>39444</td>\n",
              "    </tr>\n",
              "    <tr>\n",
              "      <th>1</th>\n",
              "      <td>2023-05-09</td>\n",
              "      <td>23930</td>\n",
              "      <td>24050</td>\n",
              "      <td>39912</td>\n",
              "    </tr>\n",
              "    <tr>\n",
              "      <th>2</th>\n",
              "      <td>2023-05-05</td>\n",
              "      <td>23800</td>\n",
              "      <td>23850</td>\n",
              "      <td>40110</td>\n",
              "    </tr>\n",
              "    <tr>\n",
              "      <th>3</th>\n",
              "      <td>2023-05-04</td>\n",
              "      <td>25100</td>\n",
              "      <td>25150</td>\n",
              "      <td>39630</td>\n",
              "    </tr>\n",
              "    <tr>\n",
              "      <th>4</th>\n",
              "      <td>2023-05-03</td>\n",
              "      <td>25100</td>\n",
              "      <td>25100</td>\n",
              "      <td>39966</td>\n",
              "    </tr>\n",
              "    <tr>\n",
              "      <th>...</th>\n",
              "      <td>...</td>\n",
              "      <td>...</td>\n",
              "      <td>...</td>\n",
              "      <td>...</td>\n",
              "    </tr>\n",
              "    <tr>\n",
              "      <th>1599</th>\n",
              "      <td>2017-01-09</td>\n",
              "      <td>10245</td>\n",
              "      <td>10285</td>\n",
              "      <td>372012</td>\n",
              "    </tr>\n",
              "    <tr>\n",
              "      <th>1600</th>\n",
              "      <td>2017-01-06</td>\n",
              "      <td>10185</td>\n",
              "      <td>10240</td>\n",
              "      <td>370920</td>\n",
              "    </tr>\n",
              "    <tr>\n",
              "      <th>1601</th>\n",
              "      <td>2017-01-05</td>\n",
              "      <td>10230</td>\n",
              "      <td>10280</td>\n",
              "      <td>370920</td>\n",
              "    </tr>\n",
              "    <tr>\n",
              "      <th>1602</th>\n",
              "      <td>2017-01-04</td>\n",
              "      <td>9975</td>\n",
              "      <td>10025</td>\n",
              "      <td>371724</td>\n",
              "    </tr>\n",
              "    <tr>\n",
              "      <th>1603</th>\n",
              "      <td>2017-01-03</td>\n",
              "      <td>10205</td>\n",
              "      <td>10270</td>\n",
              "      <td>372066</td>\n",
              "    </tr>\n",
              "  </tbody>\n",
              "</table>\n",
              "<p>1604 rows × 4 columns</p>\n",
              "</div>\n",
              "      <button class=\"colab-df-convert\" onclick=\"convertToInteractive('df-6d0b3b5c-09bc-4e50-954e-5cb5a529fe49')\"\n",
              "              title=\"Convert this dataframe to an interactive table.\"\n",
              "              style=\"display:none;\">\n",
              "        \n",
              "  <svg xmlns=\"http://www.w3.org/2000/svg\" height=\"24px\"viewBox=\"0 0 24 24\"\n",
              "       width=\"24px\">\n",
              "    <path d=\"M0 0h24v24H0V0z\" fill=\"none\"/>\n",
              "    <path d=\"M18.56 5.44l.94 2.06.94-2.06 2.06-.94-2.06-.94-.94-2.06-.94 2.06-2.06.94zm-11 1L8.5 8.5l.94-2.06 2.06-.94-2.06-.94L8.5 2.5l-.94 2.06-2.06.94zm10 10l.94 2.06.94-2.06 2.06-.94-2.06-.94-.94-2.06-.94 2.06-2.06.94z\"/><path d=\"M17.41 7.96l-1.37-1.37c-.4-.4-.92-.59-1.43-.59-.52 0-1.04.2-1.43.59L10.3 9.45l-7.72 7.72c-.78.78-.78 2.05 0 2.83L4 21.41c.39.39.9.59 1.41.59.51 0 1.02-.2 1.41-.59l7.78-7.78 2.81-2.81c.8-.78.8-2.07 0-2.86zM5.41 20L4 18.59l7.72-7.72 1.47 1.35L5.41 20z\"/>\n",
              "  </svg>\n",
              "      </button>\n",
              "      \n",
              "  <style>\n",
              "    .colab-df-container {\n",
              "      display:flex;\n",
              "      flex-wrap:wrap;\n",
              "      gap: 12px;\n",
              "    }\n",
              "\n",
              "    .colab-df-convert {\n",
              "      background-color: #E8F0FE;\n",
              "      border: none;\n",
              "      border-radius: 50%;\n",
              "      cursor: pointer;\n",
              "      display: none;\n",
              "      fill: #1967D2;\n",
              "      height: 32px;\n",
              "      padding: 0 0 0 0;\n",
              "      width: 32px;\n",
              "    }\n",
              "\n",
              "    .colab-df-convert:hover {\n",
              "      background-color: #E2EBFA;\n",
              "      box-shadow: 0px 1px 2px rgba(60, 64, 67, 0.3), 0px 1px 3px 1px rgba(60, 64, 67, 0.15);\n",
              "      fill: #174EA6;\n",
              "    }\n",
              "\n",
              "    [theme=dark] .colab-df-convert {\n",
              "      background-color: #3B4455;\n",
              "      fill: #D2E3FC;\n",
              "    }\n",
              "\n",
              "    [theme=dark] .colab-df-convert:hover {\n",
              "      background-color: #434B5C;\n",
              "      box-shadow: 0px 1px 3px 1px rgba(0, 0, 0, 0.15);\n",
              "      filter: drop-shadow(0px 1px 2px rgba(0, 0, 0, 0.3));\n",
              "      fill: #FFFFFF;\n",
              "    }\n",
              "  </style>\n",
              "\n",
              "      <script>\n",
              "        const buttonEl =\n",
              "          document.querySelector('#df-6d0b3b5c-09bc-4e50-954e-5cb5a529fe49 button.colab-df-convert');\n",
              "        buttonEl.style.display =\n",
              "          google.colab.kernel.accessAllowed ? 'block' : 'none';\n",
              "\n",
              "        async function convertToInteractive(key) {\n",
              "          const element = document.querySelector('#df-6d0b3b5c-09bc-4e50-954e-5cb5a529fe49');\n",
              "          const dataTable =\n",
              "            await google.colab.kernel.invokeFunction('convertToInteractive',\n",
              "                                                     [key], {});\n",
              "          if (!dataTable) return;\n",
              "\n",
              "          const docLinkHtml = 'Like what you see? Visit the ' +\n",
              "            '<a target=\"_blank\" href=https://colab.research.google.com/notebooks/data_table.ipynb>data table notebook</a>'\n",
              "            + ' to learn more about interactive tables.';\n",
              "          element.innerHTML = '';\n",
              "          dataTable['output_type'] = 'display_data';\n",
              "          await google.colab.output.renderOutput(dataTable, element);\n",
              "          const docLink = document.createElement('div');\n",
              "          docLink.innerHTML = docLinkHtml;\n",
              "          element.appendChild(docLink);\n",
              "        }\n",
              "      </script>\n",
              "    </div>\n",
              "  </div>\n",
              "  "
            ]
          },
          "metadata": {},
          "execution_count": 2
        }
      ]
    },
    {
      "cell_type": "code",
      "source": [
        "#@title Step 2-1: 視覺化 {display-mode: \"form\"}\n",
        "#@markdown 從 2023 年 1 月至 2023 年 5 月 9 日的每個交易日，鎳現金結算的走勢圖:\n",
        "\n",
        "# 2023 年起每個交易日的鎳現金結算(截至 5 月 9 日)\n",
        "date_idx = data.index[data['date'].dt.year>=2023].sort_values(ascending=False)\n",
        "dates = data.loc[date_idx, 'date']\n",
        "cash_settlement = data.loc[date_idx, 'LME Nickel Cash-Settlement']\n",
        "\n",
        "# 資料的起迄日\n",
        "start_date = str(data['date'].iloc[-1].date()) \n",
        "end_date = str(data['date'].iloc[0].date()) \n",
        "\n",
        "# 趨勢圖\n",
        "plt.figure(figsize=(12,6))\n",
        "plt.plot(dates, cash_settlement, color='black')\n",
        "plt.yticks(np.arange(20000, 40000, 5000))\n",
        "plt.tick_params(axis='x', rotation=45)\n",
        "plt.title('Nickel Cash Settlement\\nfrom '+start_date+' to '+end_date, fontsize=14)\n",
        "plt.xlabel('Year-Month')\n",
        "plt.show()"
      ],
      "metadata": {
        "colab": {
          "base_uri": "https://localhost:8080/",
          "height": 644
        },
        "id": "qSdPGd_7VEOG",
        "outputId": "fd875200-4eec-429f-b0f2-ae55f8c32e6b"
      },
      "execution_count": null,
      "outputs": [
        {
          "output_type": "display_data",
          "data": {
            "text/plain": [
              "<Figure size 1200x600 with 1 Axes>"
            ],
            "image/png": "[encoded data removed]"
          },
          "metadata": {}
        }
      ]
    },
    {
      "cell_type": "markdown",
      "source": [
        "## Step 3: 定義函數  \n",
        "有關 PSI 偵測數據飄移， Python 程式碼執行的步驟如下:\n",
        "\n",
        "*   **Step 1**:   \n",
        "分箱離算化樣本數據。基於過往樣本 P 的數據分佈，計算分箱的區間分割點，分別對過往樣本 P 與近期樣本 Q 進行分箱離散化。  \n",
        "注意 : 分箱的方法(等距分割、等頻分割)與分割的個數，皆會影響離散化後的資料分佈結果。   \n",
        "\n",
        "*   **Step 2**:  \n",
        "統計過往樣本 P 與近期樣本 Q 在每個分割區間中的樣本數佔比。\n",
        "\n",
        "*   **Step 3**:  \n",
        "計算 PSI，加總每個分割區間的兩樣本佔比差與兩樣本佔比的比例取自然對數的乘積，計算公式如下:    \n",
        "$$ \\text{PSI} = \\sum_{i=1}^{M} (R_{P,i}-R_{Q, i})\\times \\ln(\\frac{R_{P,i}}{R_{Q,i}}),$$\n",
        "其中，$M$ 為離散化的分割區間數，$R_{P,i}$ 與 $R_{Q,i}$ 分別為樣本 P 與樣本 Q 在某個分割區間中的佔比。 \n",
        "  \n"
      ],
      "metadata": {
        "id": "1lHHx3EOtxga"
      }
    },
    {
      "cell_type": "markdown",
      "source": [
        "💻 定義計算離散化分割點的函數:  "
      ],
      "metadata": {
        "id": "fXFY5nOd6ln8"
      }
    },
    {
      "cell_type": "code",
      "source": [
        "def create_bin_rule(data, bins_num=4, method='uniform'):\n",
        "    \"\"\"\n",
        "    等距(等頻)分割數據離散化的區間分割點。 \n",
        "\n",
        "    params:\n",
        "        data (series): 數據集\n",
        "        bins_num (int): 數據分箱離散化的區間數，預設為 10 。\n",
        "        method (str): 數據分箱離散化的方法，有兩種方法: 'uniform' 等距分割、'quantile' 等頻分割，預設為 'uniform'。\n",
        "\n",
        "    returns:\n",
        "        bin_rule (list): 等距(或等頻)分割的分割點\n",
        "    \"\"\"    \n",
        "\n",
        "    if not isinstance(data, pd.Series):\n",
        "        raise TypeError('data 參數的資料型態須為 pd.Series。')\n",
        "\n",
        "    if method=='uniform':\n",
        "        min_value = min(data)\n",
        "        max_value = max(data)\n",
        "        bin_rule = np.linspace(min_value, max_value, bins_num+1)\n",
        "\n",
        "    elif method=='quantile':\n",
        "        bin_rule = pd.qcut(data, q=bins_num, precision=3, retbins=True)[1]\n",
        "    \n",
        "    bin_rule = list(bin_rule)\n",
        "    bin_rule = [round(num, 3) for num in bin_rule]\n",
        "\n",
        "    return bin_rule"
      ],
      "metadata": {
        "id": "9_RTVYpam5Kp"
      },
      "execution_count": null,
      "outputs": []
    },
    {
      "cell_type": "markdown",
      "source": [
        "💻 數據離散化後，統計樣本資料在每個分割區間的個數與佔比:  "
      ],
      "metadata": {
        "id": "AbaG1CJ47CMr"
      }
    },
    {
      "cell_type": "code",
      "source": [
        "def discretization(data, bin_rule): \n",
        "    \"\"\"\n",
        "    在藉由指定的分割區間離散化數據後，統計在每個區間的個數與佔比。 \n",
        "\n",
        "    params:\n",
        "        data (series): 數據集\n",
        "        bin_rule (list): 指定的分割區間。\n",
        "\n",
        "    returns:\n",
        "        label_counts (df): 數據離散化後，每個區間的個數與佔比。\n",
        "    \"\"\"       \n",
        "\n",
        "    if not isinstance(data, pd.Series):\n",
        "        raise TypeError('data 參數的資料型態須為 pd.Series。')\n",
        "\n",
        "    temp_df = pd.DataFrame()    \n",
        "    temp_df['data'] = data\n",
        "    \n",
        "    # 數據離散化\n",
        "    temp_df['labels'] = pd.cut(data, bin_rule, include_lowest=True).astype(str)\n",
        "    temp_df = temp_df[temp_df['labels']!='nan']\n",
        "    \n",
        "    # 計算每個區間的個數\n",
        "    label_counts = temp_df['labels'].value_counts()\n",
        "    label_counts = pd.DataFrame(label_counts)\n",
        "\n",
        "    # 重新命名欄位名稱與索引名稱\n",
        "    label_counts.columns = ['counts']\n",
        "    label_counts.index.name = 'labels'\n",
        "    \n",
        "    # 計算每個區間的占比\n",
        "    label_counts['percent'] = label_counts['counts']/sum(label_counts['counts'])\n",
        "\n",
        "    return label_counts"
      ],
      "metadata": {
        "id": "gjsODEfo8evu"
      },
      "execution_count": null,
      "outputs": []
    },
    {
      "cell_type": "markdown",
      "source": [
        "💻 計算兩樣本的 PSI 值且評量其差異性:   "
      ],
      "metadata": {
        "id": "zb19RtyLTd9C"
      }
    },
    {
      "cell_type": "code",
      "source": [
        "def calc_psi(p_data, q_data, bins_num=10, create_bins_method='uniform', eps=1e-5, threshold=0.2):\n",
        "    \"\"\"\n",
        "    計算 PSI(Population Stability Index)，且評估兩樣本 P 與 Q 分佈之間的差異性。\n",
        "\n",
        "    params:\n",
        "        p_data (pd.Series): 樣本 P\n",
        "        q_data (pd.Series): 樣本 Q\n",
        "        bins_num (int): 樣本數據分箱離散化的區間數，預設為 10 。\n",
        "        create_bins_method (str): 樣本數據分箱離散化的方法，有 'uniform' 等距分割、'quantile' 等頻分割，預設為 'uniform'。\n",
        "        eps (float): 在計算 PSI 時，以極小的數取代 0 ，避免產生除以 0 的錯誤值，預設為 1e-5。\n",
        "        threshold (float): 判別資料分佈差異的 PSI 臨界值，預設為 0.2 。\n",
        "\n",
        "    returns:\n",
        "        psi (float): PSI 值\n",
        "        stability (str): 兩樣本 P 與 Q 分佈之間的差異程度，一般而言，若 PSI 值大於 0.25，表示有資料飄移的現象發生。\n",
        "        distr_summary (df): 兩樣本 P 與 Q 分箱離散化後，各分箱區間的個數與佔比。\n",
        "    \"\"\"\n",
        "\n",
        "    if not isinstance(p_data, pd.Series):\n",
        "        raise TypeError('p_data 參數的資料型態須為 pd.Series。')\n",
        "    \n",
        "    if not isinstance(q_data, pd.Series):\n",
        "        raise TypeError('q_data 參數的資料型態須為 pd.Series。')\n",
        "\n",
        "    # 樣本數據離散化的分割點\n",
        "    if create_bins_method=='uniform':\n",
        "        all_data = pd.concat([p_data, q_data])\n",
        "        bin_rule = create_bin_rule(all_data, bins_num, create_bins_method)\n",
        "\n",
        "    elif create_bins_method=='quantile':\n",
        "        bin_rule = create_bin_rule(p_data, bins_num, create_bins_method)\n",
        "\n",
        "    # 離散化樣本 P 與樣本 Q\n",
        "    discretize_p_data = discretization(p_data, bin_rule)\n",
        "    discretize_q_data = discretization(q_data, bin_rule)\n",
        "    distr_summary = discretize_p_data.join(discretize_q_data, how='outer', lsuffix='_p', rsuffix='_q')\n",
        "\n",
        "    # 由小到大排序分割的區間\n",
        "    distr_summary.reset_index(inplace=True)\n",
        "    distr_summary['left_point_of_bin'] = distr_summary.labels.str.extract('\\((.*),', expand=False).astype(float)\n",
        "    distr_summary.sort_values(by='left_point_of_bin', inplace=True)\n",
        "    distr_summary.drop(['left_point_of_bin'], axis=1, inplace=True )\n",
        "\n",
        "    # 計算 PSI\n",
        "    for col in ['percent_p', 'percent_q']:\n",
        "        # 以極小的值 eps 取代 0，避免後續計算 PSI 值時，發生除以 0 的情況。\n",
        "        distr_summary[col] = distr_summary[col].fillna(eps)\n",
        "\n",
        "    distr_summary['idx'] = distr_summary.apply(lambda x: \n",
        "                                               (x['percent_p']-x['percent_q'])*np.log(x['percent_p']/x['percent_q']), \n",
        "                                               axis=1)\n",
        "    psi = np.sum(distr_summary['idx'])\n",
        "    \n",
        "    # 評估兩樣本 P 與 Q 分佈之間的差異程度\n",
        "    if psi<0.1:\n",
        "        stability='Stable'\n",
        "    \n",
        "    elif (psi>=0.1) and (psi<threshold):\n",
        "        stability = 'Slightly Changed'\n",
        "    \n",
        "    elif (psi>=threshold) and (psi<0.5):\n",
        "        stability = 'Moderately Changed'\n",
        "    \n",
        "    else:\n",
        "        stability = 'Highly Changed'\n",
        "        \n",
        "    return psi, stability, distr_summary"
      ],
      "metadata": {
        "id": "y-iP3xLjTmaQ"
      },
      "execution_count": null,
      "outputs": []
    },
    {
      "cell_type": "markdown",
      "source": [
        "透過滑動視窗的方式，對單一變數的時序資料，以 PSI 值偵測資料是否隨著時間，發生數據飄移(Data Drift)的現象:"
      ],
      "metadata": {
        "id": "zpsPSdi9WFaT"
      }
    },
    {
      "cell_type": "code",
      "source": [
        "def data_drift_detector_in_psi(in_data, detect_col_name, sliding_window_size, shift_date_step=5, \n",
        "                               bins_num=10, create_bins_method='uniform', eps=1e-5, threshold=0.2,\n",
        "                               shift_p_threshold=0):\n",
        "    '''\n",
        "    利用滑動視窗的方式，檢測時序資料是否發生數據飄移的現象。\n",
        "\n",
        "    Args:\n",
        "        in_data (dataframe): 資料集(具有時間日期的欄位)\n",
        "        detect_col_name (str): 欲偵測的欄位名稱\n",
        "        sliding_window_size (int): 滑動視窗的大小\n",
        "        shift_date_step (int): 滑動視窗位移的步數，預設為 5\n",
        "        shift_p_threshold (int): 連續檢測出兩樣本機率分佈不同的次數，預設為 0 。\n",
        "                                 若為 0 ，則滑動視窗 P 固定不動。\n",
        "        threshold (float): 判別資料分佈差異的 PSI 臨界值，預設為 0.2 。\n",
        "\n",
        "    Returns:\n",
        "        output_data (dataframe): 各時間點下的檢測結果。\n",
        "    '''\n",
        "\n",
        "    if not isinstance(in_data, pd.DataFrame):\n",
        "        raise TypeError('in_data 參數的資料型態須為 pd.DataFrame。')\n",
        "\n",
        "    date_idx = in_data.index\n",
        "    \n",
        "    # 建立空的 dataframe 用以儲存偵測結果\n",
        "    output_data = pd.DataFrame(columns=['p_data', 'p_idx', 'p_date', 'q_data', 'q_idx', 'q_date', \n",
        "                                        'psi', 'threshold', 'stability', 'distr_summary', 'shift_p_data'])\n",
        "\n",
        "    for iter_idx, i in enumerate(range(0, len(date_idx)-sliding_window_size+1, shift_date_step)):\n",
        "\n",
        "        if iter_idx==0:               \n",
        "            if not shift_p_threshold is np.nan:\n",
        "                shift_p_data = False\n",
        "                different_count = 0\n",
        "\n",
        "            # 篩選資料 P\n",
        "            p_idx = date_idx[i:i+sliding_window_size]\n",
        "            p_data = in_data.loc[p_idx, detect_col_name] # Series Type        \n",
        "\n",
        "        else:  \n",
        "            # 篩選資料 Q\n",
        "            q_idx = date_idx[i:i+sliding_window_size]\n",
        "            q_data = in_data.loc[q_idx, detect_col_name] # Series Type\n",
        "\n",
        "            # 兩樣本 P 與 Q 的 PSI 值、差異程度評估與離散化後的分布\n",
        "            psi, stability, distr_summary = calc_psi(p_data, q_data, bins_num, create_bins_method, eps)\n",
        "            \n",
        "            # 儲存 PSI 值與相關資訊\n",
        "            output_data.loc[len(output_data.index)] = [p_data, p_idx, data.loc[p_idx, 'date'],\n",
        "                                                       q_data, q_idx, data.loc[q_idx, 'date'],\n",
        "                                                       psi, threshold, stability, distr_summary, shift_p_data]\n",
        "\n",
        "            if not shift_p_threshold is np.nan:                \n",
        "\n",
        "                if shift_p_data:\n",
        "                    shift_p_data = False\n",
        "                    different_count = 0\n",
        "                \n",
        "                if not (psi<threshold):\n",
        "                    different_count += 1\n",
        "\n",
        "                    if different_count==shift_p_threshold:\n",
        "                        shift_p_data = True    \n",
        "                        p_idx = q_idx\n",
        "                        p_data = q_data\n",
        "\n",
        "\n",
        "                else: \n",
        "                    different_count += 0\n",
        "\n",
        "    output_data.index = output_data.index+1\n",
        "\n",
        "    return output_data"
      ],
      "metadata": {
        "id": "CHcY81zCfkEi"
      },
      "execution_count": null,
      "outputs": []
    },
    {
      "cell_type": "markdown",
      "source": [
        "💻 定義函數用以繪製每個時間點偵測結果的視覺化:"
      ],
      "metadata": {
        "id": "2BeaiRN2YAbf"
      }
    },
    {
      "cell_type": "code",
      "source": [
        "def plot_output_image(detection_data, detect_col_name, detection_result, folder_name='output_imgs'):\n",
        "    '''\n",
        "    視覺化各時間點 PSI 值與相關評估結果。\n",
        "\n",
        "    Args:\n",
        "        detection_data (dataframe): 待偵測的原始資料集(具有時間日期的欄位)\n",
        "        detect_col_name (str): 欲偵測的欄位名稱\n",
        "        detection_result (dataframe): 各時間點下的偵測結果\n",
        "        folder_name (str): 儲存圖片的資料夾名稱\n",
        "\n",
        "    Returns:\n",
        "        對各時間點的偵測結果，將其視覺化且儲成圖片。\n",
        "    '''    \n",
        "    \n",
        "    # 建立儲存圖片的資料夾\n",
        "    img_folder = os.path.join(os.getcwd(), folder_name)\n",
        "    if not os.path.exists(img_folder):\n",
        "        os.makedirs(img_folder)\n",
        "\n",
        "    img_paths = []\n",
        "    for i in list(detection_result.index):  \n",
        "        \n",
        "        current_distr_summary = detection_output.loc[i, 'distr_summary']\n",
        "        current_psi = detection_output.loc[i, 'psi']\n",
        "        psi_threshold = detection_output.loc[i, 'threshold']\n",
        "        current_stability = detection_output.loc[i, 'stability']\n",
        "        \n",
        "        p_data = detection_result.loc[i, 'p_data']\n",
        "        q_data = detection_result.loc[i, 'q_data'] \n",
        "        p_date = detection_result.loc[i, 'p_date']\n",
        "        q_date = detection_result.loc[i, 'q_date']\n",
        "        p_start_date = str(list(p_date)[0].date())\n",
        "        p_end_date = str(list(p_date)[-1].date())\n",
        "        q_start_date = str(list(q_date)[0].date())\n",
        "        q_end_date = str(list(q_date)[-1].date())\n",
        "        idx_of_sliding_win = range(1, len(p_data)+1)\n",
        "\n",
        "        fig = plt.figure(figsize=(15, 10), constrained_layout=True)\n",
        "        gs = gridspec.GridSpec(3, 2, figure=fig)\n",
        "        \n",
        "        # 子圖 1: 兩滑動視窗的資料 \n",
        "        ax1 = fig.add_subplot(gs[0, 0])\n",
        "        y_upper_bound = round(detection_data[detect_col_name].max(), -3)\n",
        "\n",
        "        ax1.plot(detection_data['date'], detection_data[detect_col_name], color='gray', alpha=0.5)\n",
        "        ax1.fill_between(p_date, p_data, alpha=0.6, label='P: from '+p_start_date+' to '+p_end_date)\n",
        "        ax1.fill_between(q_date, q_data, alpha=0.6, label='Q: from '+q_start_date+' to '+q_end_date)\n",
        "        ax1.legend(loc=2)\n",
        "        ax1.set_ylim([0, y_upper_bound*1.3])\n",
        "        ax1.tick_params(axis='x', rotation=45)\n",
        "        ax1.set_title('Nickel Cash Settlement')\n",
        "        ax1.set_xlabel('Date')\n",
        "\n",
        "        # 子圖 2: 累積分佈函數、 KS 檢定統計量與 P Value\n",
        "        ax2 = fig.add_subplot(gs[0, 1])\n",
        "        x_axis = np.arange(len(current_distr_summary['labels']))\n",
        "\n",
        "        ax2.bar(x_axis-0.2, list(current_distr_summary['counts_p']), 0.4, alpha=0.6, label='P')\n",
        "        ax2.bar(x_axis+0.2, list(current_distr_summary['counts_q']), 0.4, alpha=0.6, label='Q')\n",
        "        ax2.legend(loc=2)\n",
        "        ax2.set_xticks(x_axis, current_distr_summary['labels'], rotation=45)\n",
        "        ax2.set_title('Bar Chart')\n",
        "        ax2.set_xlabel('Nickel Cash Settlement')\n",
        "\n",
        "        # # 子圖 3: KS 檢定統計量與是否拒絕虛無假設\n",
        "        ax3 = fig.add_subplot(gs[1, :])\n",
        "        y_upper_bound = round(detection_result.loc[0:i, 'psi'].max(), 3)\n",
        "        \n",
        "        ax3.axhline(y=psi_threshold, color='green', linestyle='-', alpha=0.7)\n",
        "        ax3.plot(detection_result.loc[0:i, 'psi'], marker='o' ,markersize=5, color='gray', alpha=0.6)\n",
        "\n",
        "        if (current_psi<0.25):\n",
        "            ax3.plot(i, detection_result.loc[i, 'psi'], marker='o', markersize=8, color='green', \n",
        "                     label='PSI= '+str(round(current_psi, 3))+'\\n'+'Current Stability: '+ current_stability)\n",
        " \n",
        "        else:\n",
        "            ax3.plot(i, detection_result.loc[i, 'psi'], marker='o', markersize=8, color='red', \n",
        "                     label='PSI= '+str(round(current_psi, 3))+'\\n'+'Current Stability: '+ current_stability)  \n",
        "                \n",
        "        ax3.legend(loc=2, fontsize=12)\n",
        "\n",
        "        if i<=50: \n",
        "            ax3.set_xticks(list(range(1, i+1)))\n",
        "        \n",
        "        else:\n",
        "            ax3.set_xticks(list(range(1, i+1, 5)))\n",
        "\n",
        "        ax3.set_xlabel('Iteration of Detection')\n",
        "        ax3.set_ylabel('PSI', color='green')\n",
        "        ax3.set_ylim([0, y_upper_bound*1.05])\n",
        "        plt.title('Population Stability Index', fontsize=16)\n",
        "        \n",
        "        # 儲存圖片\n",
        "        img_path = os.path.join(img_folder, str(i)+'.png') \n",
        "        plt.savefig(img_path, bbox_inches='tight', format='png')\n",
        "        img_paths.append(img_path)\n",
        "        plt.show()\n",
        "\n",
        "    return img_paths"
      ],
      "metadata": {
        "id": "BbqKXpnxmRXQ"
      },
      "execution_count": null,
      "outputs": []
    },
    {
      "cell_type": "code",
      "source": [
        "def create_gif(img_paths, gif_name, gif_duration=100, gif_loop=3):\n",
        "    '''\n",
        "    製作 gif 檔。\n",
        "\n",
        "    Args:\n",
        "        img_paths (list): 每張圖片的路徑(包含檔名)\n",
        "        gif_name (str): gif 檔的檔名(.gif)\n",
        "        gif_duration (int): 每一禎的持續時間\n",
        "        gif_loop (int): 動畫的重複次數\n",
        "    '''    \n",
        "\n",
        "    # 繪製 gif 檔\n",
        "    Frames = []\n",
        "    for img in img_paths: \n",
        "        frame = Image.open(img)\n",
        "        Frames.append(frame)\n",
        "\n",
        "    gif_path = os.path.join(os.getcwd(), gif_name)\n",
        "    Frames[0].save(gif_path, save_all=True, append_images=Frames[1:], \n",
        "                   duration=gif_duration, loop=gif_loop)"
      ],
      "metadata": {
        "id": "-Bz1yBWeeusX"
      },
      "execution_count": null,
      "outputs": []
    },
    {
      "cell_type": "markdown",
      "source": [
        "## Step 4: 偵測數據飄移"
      ],
      "metadata": {
        "id": "QjZvaYaAA_k2"
      }
    },
    {
      "cell_type": "markdown",
      "source": [
        "#### 方法一 : 固定滑動視窗 P\n",
        "\n",
        "<p align=\"left\">\n",
        "<img width=\"450\" src=\"https://raw.githubusercontent.com/YenLinWu/Model_Drift/dev/Population_Stability_Index/Imgs/Data_Drift_Detection_in_PSI_with_fixed_1_sliding_window.gif\">\n",
        "</p>"
      ],
      "metadata": {
        "id": "dGy9Pby82cPj"
      }
    },
    {
      "cell_type": "code",
      "source": [
        "# 篩選 2023 年後的資料\n",
        "detection_data = data[data['date'].dt.year>=2023]\n",
        "\n",
        "# 將日期由遠到近重新排序\n",
        "detection_data = detection_data.sort_values(by='date') \n",
        "\n",
        "###### 參數設定 ######\n",
        "## 滑動視窗的大小\n",
        "sliding_window_size = 30\n",
        "\n",
        "## 滑動視窗位移的步數\n",
        "shift_date_step = 1\n",
        "\n",
        "## 樣本數據離散化的分箱方法\n",
        "create_bins_method='uniform'\n",
        "\n",
        "## 樣本數據離散化的分箱區間個數\n",
        "bins_num = 10\n",
        "\n",
        "## 計算 PSI 時，以極小的數取代 0 ，避免產生除以 0 的錯誤值。\n",
        "eps=1e-5\n",
        "\n",
        "## 判別資料分佈差異的 PSI 臨界值\n",
        "threshold = 0.25\n",
        "\n",
        "## 連續檢測出兩樣本機率分佈不同的次數，\n",
        "## 當達到此次數時，將移動滑動視窗 P，若設為 0，則表示固定滑動視窗 P。 \n",
        "shift_p_threshold = 0\n",
        "\n",
        "#####################\n",
        "\n",
        "# 滑動視窗檢測\n",
        "detection_output = data_drift_detector_in_psi(detection_data, 'LME Nickel Cash-Settlement', \n",
        "                                              sliding_window_size, shift_date_step, \n",
        "                                              bins_num, create_bins_method, eps, threshold,\n",
        "                                              shift_p_threshold)\n",
        "\n",
        "detection_output"
      ],
      "metadata": {
        "id": "Ht5m47mzY0jD"
      },
      "execution_count": null,
      "outputs": []
    },
    {
      "cell_type": "code",
      "source": [
        "# 繪製每次偵測的結果\n",
        "img_paths = plot_output_image(detection_data, 'LME Nickel Cash-Settlement', \n",
        "                              detection_output, folder_name='output_imgs_of_fixed_1_sliding_window')"
      ],
      "metadata": {
        "id": "R88CuU5A8tdV"
      },
      "execution_count": null,
      "outputs": []
    },
    {
      "cell_type": "code",
      "source": [
        "# 製作 gif 檔\n",
        "create_gif(img_paths, gif_name='Data_Drift_Detection_in_PSI_with_fixed_1_sliding_window.gif', \n",
        "           gif_duration=600, gif_loop=3)"
      ],
      "metadata": {
        "id": "Y45F0RXi8tf1"
      },
      "execution_count": null,
      "outputs": []
    },
    {
      "cell_type": "markdown",
      "source": [
        "#### 方法二 : 不固定滑動視窗 P\n",
        "\n",
        "<p align=\"left\">\n",
        "<img width=\"450\" src=\"https://raw.githubusercontent.com/YenLinWu/Model_Drift/dev/Population_Stability_Index/Imgs/Data_Drift_Detection_in_PSI_with_unfixed_2_sliding_windows.gif\">\n",
        "</p>\n"
      ],
      "metadata": {
        "id": "oimuqwJFTR53"
      }
    },
    {
      "cell_type": "code",
      "source": [
        "# 篩選 2023 年後的資料\n",
        "detection_data = data[data['date'].dt.year>=2023]\n",
        "\n",
        "# 將日期由遠到近重新排序\n",
        "detection_data = detection_data.sort_values(by='date') \n",
        "\n",
        "###### 參數設定 ######\n",
        "## 滑動視窗的大小\n",
        "sliding_window_size = 30\n",
        "\n",
        "## 滑動視窗位移的步數\n",
        "shift_date_step = 1\n",
        "\n",
        "## 樣本數據離散化的分箱方法\n",
        "create_bins_method='uniform'\n",
        "\n",
        "## 樣本數據離散化的分箱區間個數\n",
        "bins_num = 10\n",
        "\n",
        "## 計算 PSI 時，以極小的數取代 0 ，避免產生除以 0 的錯誤值。\n",
        "eps=1e-5\n",
        "\n",
        "## 判別資料分佈差異的 PSI 臨界值\n",
        "threshold = 0.25\n",
        "\n",
        "## 連續檢測出兩樣本機率分佈不同的次數，\n",
        "## 當達到此次數時，將移動滑動視窗 P，若設為 0，則表示固定滑動視窗 P。 \n",
        "shift_p_threshold = 5\n",
        "\n",
        "#####################\n",
        "\n",
        "# 滑動視窗檢測\n",
        "detection_output = data_drift_detector_in_psi(detection_data, 'LME Nickel Cash-Settlement', \n",
        "                                              sliding_window_size, shift_date_step, \n",
        "                                              bins_num, create_bins_method, eps, threshold,\n",
        "                                              shift_p_threshold)\n",
        "\n",
        "detection_output"
      ],
      "metadata": {
        "id": "tDL7X7lIZsGh"
      },
      "execution_count": null,
      "outputs": []
    },
    {
      "cell_type": "code",
      "source": [
        "# 繪製每次偵測的結果\n",
        "img_paths = plot_output_image(detection_data, 'LME Nickel Cash-Settlement', \n",
        "                              detection_output, folder_name='output_imgs_of_unfixed_2_sliding_windows')"
      ],
      "metadata": {
        "id": "gCA5n0rbBJBs"
      },
      "execution_count": null,
      "outputs": []
    },
    {
      "cell_type": "code",
      "source": [
        "# 製作 gif 檔\n",
        "create_gif(img_paths, gif_name='Data_Drift_Detection_in_PSI_with_unfixed_2_sliding_windows.gif', \n",
        "           gif_duration=600, gif_loop=3)"
      ],
      "metadata": {
        "id": "wRtoVDoH5NWI"
      },
      "execution_count": null,
      "outputs": []
    },
    {
      "cell_type": "markdown",
      "source": [
        "# **參考資料**  \n",
        "\n",
        "### **文章**  \n",
        "##### 註: 順序為作者的閱讀順序   \n",
        "* Vinícius Trevisan (2022), *Is your ML model stable? Checking model stability and population drift with PSI and CSI*,   \n",
        "from [https://towardsdatascience.com/checking-model-stability-and-population-shift-with-psi-and-csi-6d12af008783](https://towardsdatascience.com/checking-model-stability-and-population-shift-with-psi-and-csi-6d12af008783).  \n",
        "* Matthew Burke (2018), *Population Stability Index*,  \n",
        "from [https://mwburke.github.io/data%20science/2018/04/29/population-stability-index.html](https://mwburke.github.io/data%20science/2018/04/29/population-stability-index.html).  \n",
        "* Aditya Agarwal (2020), *Population Stability Index (PSI)*,  \n",
        "from [https://medium.com/model-monitoring-psi/population-stability-index-psi-ab133b0a5d42](https://medium.com/model-monitoring-psi/population-stability-index-psi-ab133b0a5d42).      \n",
        "\n",
        "### **論文**  \n",
        "* Bilal Yurdakul, *Statistical Properties of Population Stability Index*, 2018.  \n",
        "[https://scholarworks.wmich.edu/dissertations/3208/](https://scholarworks.wmich.edu/dissertations/3208/).\n"
      ],
      "metadata": {
        "id": "j-_jU5uKPLCT"
      }
    },
    {
      "cell_type": "markdown",
      "source": [
        "# 返回【[如何偵測模型飄移](https://github.com/YenLinWu/Model_Drift/blob/main/README.md#%E5%A6%82%E4%BD%95%E5%81%B5%E6%B8%AC%E6%A8%A1%E5%9E%8B%E9%A3%84%E7%A7%BB-how-to-detect-model-drift)】\n",
        "\n"
      ],
      "metadata": {
        "id": "Po4ckgqfPPk4"
      }
    }
  ]
}